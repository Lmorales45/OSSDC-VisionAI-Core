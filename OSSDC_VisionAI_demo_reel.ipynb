{
  "nbformat": 4,
  "nbformat_minor": 0,
  "metadata": {
    "accelerator": "GPU",
    "colab": {
      "name": "OSSDC-VisionAI-demo-reel.ipynb",
      "provenance": [],
      "collapsed_sections": [],
      "toc_visible": true
    },
    "kernelspec": {
      "display_name": "Python 3",
      "name": "python3"
    }
  },
  "cells": [
    {
      "cell_type": "markdown",
      "metadata": {
        "id": "oTGBXLszJt_R"
      },
      "source": [
        "# Demos of **OSSDC VisionAI** realtime video processing project\r\n",
        "\r\n",
        "# See more details here:\r\n",
        "# https://github.com/OSSDC/OSSDC-VisionAI-Core \r\n",
        "\r\n",
        "# Run this notebook in **Google Colab** or on your own machine it requires a CPU/GPU for certain algorithms Luxonis DepthAI enabled cameras for others (those prefixed with oakd, see also https://shop.luxonis.com/?aff=ossdc and https://store.opencv.ai/blogs/learn-oak), see project page for more details.\r\n",
        "\r\n",
        "# On your Android phone/tablet/media player run the latest *OSSDC Vision AI Mobile* app, download and install it from here:\r\n",
        "# https://github.com/OSSDC/OSSDC-VisionAI-Mobile/releases/\r\n",
        "\r\n",
        "# Or scan the QR code generated bellow"
      ]
    },
    {
      "cell_type": "markdown",
      "metadata": {
        "id": "q0zIjXuQJ3mT"
      },
      "source": [
        "## Generate download link for **OSSDC VisionAI Mobile**\r\n",
        "\r\n",
        "# Scan the generated QR code to get the latest APK and install it on your Android phone/tablet"
      ]
    },
    {
      "cell_type": "code",
      "metadata": {
        "id": "L9C598G3lsh6"
      },
      "source": [
        "!pip install qrcode\n",
        "import qrcode \n",
        "import random\n",
        "import string\n",
        "from IPython.display import Image\n",
        "import requests\n",
        "import re"
      ],
      "execution_count": null,
      "outputs": []
    },
    {
      "cell_type": "code",
      "metadata": {
        "id": "aEzOrU7ffIiL"
      },
      "source": [
        "response = requests.get('https://github.com/OSSDC/OSSDC-VisionAI-Mobile/releases')\r\n",
        "data = response.text\r\n",
        "\r\n",
        "appURL = ''\r\n",
        "\r\n",
        "# Find latest app version download URL\r\n",
        "for line in data.split('\\n'):\r\n",
        "  if 'apk\"' in line:\r\n",
        "    # print(line)\r\n",
        "    match = re.search('a href=\"(.*)\" rel', line, re.IGNORECASE)\r\n",
        "    if match:\r\n",
        "      appURL = 'https://github.com/'+match.group(1)\r\n",
        "\r\n",
        "    print(appURL)\r\n",
        "    break"
      ],
      "execution_count": null,
      "outputs": []
    },
    {
      "cell_type": "code",
      "metadata": {
        "id": "A2Bv29FkPGVk"
      },
      "source": [
        "print('Scan the QR code to download latest OSSDC Vision Mobile app on your Android phone/tablet\\n'+appURL)\r\n",
        "\r\n",
        "# Encoding data using make() function \r\n",
        "img = qrcode.make(appURL)\r\n",
        "  \r\n",
        "# Saving as an image file \r\n",
        "img.save('OSSDCVisionMobileAppURLQRCode.png')\r\n",
        "\r\n",
        "Image(filename='OSSDCVisionMobileAppURLQRCode.png') \r\n"
      ],
      "execution_count": null,
      "outputs": []
    },
    {
      "cell_type": "markdown",
      "metadata": {
        "id": "eGvajt16LEoZ"
      },
      "source": [
        "## Generate random room name, scan this QR code in **OSSDC VisionAI Android** application and Connect"
      ]
    },
    {
      "cell_type": "code",
      "metadata": {
        "id": "4VIPupPhedHT"
      },
      "source": [
        "random_string = ''.join(random.SystemRandom().choice(string.ascii_letters + string.digits) for _ in range(10))\r\n",
        "\r\n",
        "# Data to be encoded \r\n",
        "roomName = 'TestRoom-'+random_string\r\n",
        "print('Room name =', roomName)\r\n",
        "print('\\nLaunch OSSDC VisionAI Mobile app on your Android phone/tablet\\n\\nScan the room QR code and Connect while the packages are installed')\r\n",
        "  \r\n",
        "# Encoding data using make() function \r\n",
        "img = qrcode.make(roomName) \r\n",
        "  \r\n",
        "# Saving as an image file \r\n",
        "img.save('RoomQRCode.png')\r\n",
        "\r\n",
        "Image(filename='RoomQRCode.png') "
      ],
      "execution_count": null,
      "outputs": []
    },
    {
      "cell_type": "markdown",
      "metadata": {
        "id": "ertIHsidLhQJ"
      },
      "source": [
        "## Install prerequisites for WebRTC and YouTube streaming"
      ]
    },
    {
      "cell_type": "code",
      "metadata": {
        "id": "nrx-vaEQq1P_"
      },
      "source": [
        "!pip install opencv-python opencv-contrib-python aiortc aiohttp websockets python-engineio==3.14.2 python-socketio[client]==4.6.0 youtube-dl"
      ],
      "execution_count": null,
      "outputs": []
    },
    {
      "cell_type": "markdown",
      "metadata": {
        "id": "92IF-rnML9dU"
      },
      "source": [
        "# Install **OSSDC VisionAI Core** project\r\n",
        "\r\n",
        "# This project contains the implementation of the algorithms shown bellow\r\n",
        "\r\n",
        "\r\n",
        "\r\n"
      ]
    },
    {
      "cell_type": "code",
      "metadata": {
        "id": "5x1c7DdmNCl8"
      },
      "source": [
        "!git clone https://github.com/OSSDC/OSSDC-VisionAI-Core"
      ],
      "execution_count": null,
      "outputs": []
    },
    {
      "cell_type": "markdown",
      "metadata": {
        "id": "jc_y3acSLwJQ"
      },
      "source": [
        "# Install MediaPipe algorithms"
      ]
    },
    {
      "cell_type": "code",
      "metadata": {
        "id": "q1UjGQtPJcSz"
      },
      "source": [
        "!pip install mediapipe"
      ],
      "execution_count": null,
      "outputs": []
    },
    {
      "cell_type": "markdown",
      "metadata": {
        "id": "WsBnBMQsPfgp"
      },
      "source": [
        "## Enable **mediapipe** algorithms in **demo-reel.sh** then [Click here](#scrollTo=o_XakLktMBfj) to jump to Run realtime live demos and run this algorithm"
      ]
    },
    {
      "cell_type": "markdown",
      "metadata": {
        "id": "o_XakLktMBfj"
      },
      "source": [
        "# Run realtime live demos\r\n",
        "\r\n",
        "# Start the **OSSDC Vision AI Mobile** app, see generated QR code with download link above\r\n",
        "# Scan in the app the room name from generated QR code above and Connect to the room\r\n",
        "\r\n",
        "# Run one of the cells bellow and see the results in real time on your phone\r\n",
        "\r\n",
        "# Update **demo-reel.sh** file to enable other algorithms"
      ]
    },
    {
      "cell_type": "code",
      "metadata": {
        "id": "oLRdYEVrM0E3"
      },
      "source": [
        "# Make sure the OSSDC Vision AI Mobile app is connected to the same room\r\n",
        "print(\"Room name\",roomName)\r\n",
        "\r\n",
        "# Run video processing on your Android phone/tablet camera video stream\r\n",
        "!cd OSSDC-VisionAI-Core; bash demo-reel.sh {roomName} direct"
      ],
      "execution_count": null,
      "outputs": []
    },
    {
      "cell_type": "code",
      "metadata": {
        "id": "xpy9QHe7Mzy7"
      },
      "source": [
        "# Make sure the OSSDC Vision AI Mobile app is connected to the same room\r\n",
        "print(\"Room name\",roomName)\r\n",
        "\r\n",
        "# Run video processing on a YouTube video stream\r\n",
        "!cd OSSDC-VisionAI-Core; bash demo-reel.sh {roomName} `youtube-dl -f 22 -g https://www.youtube.com/watch?v=dqnjHqwP68Y`\r\n"
      ],
      "execution_count": null,
      "outputs": []
    },
    {
      "cell_type": "markdown",
      "metadata": {
        "id": "zFEF-bwwNdUg"
      },
      "source": [
        "# Install MiDaS algorithm"
      ]
    },
    {
      "cell_type": "code",
      "metadata": {
        "id": "sUobb3cWm2bM"
      },
      "source": [
        "!git clone https://github.com/intel-isl/MiDaS"
      ],
      "execution_count": null,
      "outputs": []
    },
    {
      "cell_type": "code",
      "metadata": {
        "id": "suI2LCgDm2eY"
      },
      "source": [
        "!cd MiDaS/; wget https://github.com/intel-isl/MiDaS/releases/download/v2/model-f46da743.pt"
      ],
      "execution_count": null,
      "outputs": []
    },
    {
      "cell_type": "code",
      "metadata": {
        "id": "d8Wkg2Spm2g7"
      },
      "source": [
        "!cd MiDaS/; wget https://github.com/intel-isl/MiDaS/releases/download/v2_1/model-f6b98070.pt; wget https://github.com/intel-isl/MiDaS/releases/download/v2_1/model-small-70d6b9c8.pt"
      ],
      "execution_count": null,
      "outputs": []
    },
    {
      "cell_type": "markdown",
      "metadata": {
        "id": "V8iXrj6zPHfa"
      },
      "source": [
        "## Enable **midas** or **midas21** algorithms in **demo-reel.sh** then [Click here](#scrollTo=o_XakLktMBfj) to jump to Run realtime live demos and run this algorithm\r\n",
        "\r\n",
        "## For **midas21** change the -mt to large in **demo-reel.sh** to run the large model (much slower than small model)."
      ]
    },
    {
      "cell_type": "markdown",
      "metadata": {
        "id": "hzZ-ccoBNgn4"
      },
      "source": [
        "# Install YOLO 5 algorithm"
      ]
    },
    {
      "cell_type": "code",
      "metadata": {
        "id": "qHuxjNHwm2nn"
      },
      "source": [
        "!wget https://github.com/ultralytics/yolov5/archive/v3.1.zip"
      ],
      "execution_count": null,
      "outputs": []
    },
    {
      "cell_type": "code",
      "metadata": {
        "id": "UAffrihVm2qf"
      },
      "source": [
        "!unzip v3.1.zip"
      ],
      "execution_count": null,
      "outputs": []
    },
    {
      "cell_type": "code",
      "metadata": {
        "id": "W52AEq2PzDhy"
      },
      "source": [
        "!ln -s yolov5-3.1 yolo5"
      ],
      "execution_count": null,
      "outputs": []
    },
    {
      "cell_type": "markdown",
      "metadata": {
        "id": "J6K07zsEO7J8"
      },
      "source": [
        "## Enable **yolo5** algorithm in **demo-reel.sh** then [Click here](#scrollTo=o_XakLktMBfj) to jump to Run realtime live demos and run this algorithm"
      ]
    },
    {
      "cell_type": "markdown",
      "metadata": {
        "id": "OS8_qDHxNmrR"
      },
      "source": [
        "# Install YOLACT algorithm"
      ]
    },
    {
      "cell_type": "code",
      "metadata": {
        "id": "Qv0-5xPTlTPq"
      },
      "source": [
        "# This is required for yolact to compile DCNv2_latest\r\n",
        "!pip install torch==1.6 torchvision==0.7 cython pillow pycocotools matplotlib "
      ],
      "execution_count": null,
      "outputs": []
    },
    {
      "cell_type": "code",
      "metadata": {
        "id": "f-4zC9j-jD4o"
      },
      "source": [
        "!git clone https://github.com/dbolya/yolact"
      ],
      "execution_count": null,
      "outputs": []
    },
    {
      "cell_type": "code",
      "metadata": {
        "id": "F-h44TSJr4X1"
      },
      "source": [
        "# Download yolact model\r\n",
        "# https://drive.google.com/file/d/1ZPu1YR2UzGHQD0o1rEqy-j5bmEm3lbyP/view?usp=sharing\r\n",
        "\r\n",
        "!gdown --id 1ZPu1YR2UzGHQD0o1rEqy-j5bmEm3lbyP\r\n",
        "\r\n",
        "!mkdir -p yolact/weights; mv yolact_plus_resnet50_54_800000.pth yolact/weights/"
      ],
      "execution_count": null,
      "outputs": []
    },
    {
      "cell_type": "code",
      "metadata": {
        "id": "wB1tCpD6jeLd"
      },
      "source": [
        "!git clone https://github.com/jinfagang/DCNv2_latest"
      ],
      "execution_count": null,
      "outputs": []
    },
    {
      "cell_type": "code",
      "metadata": {
        "id": "poKXjjWxjluH"
      },
      "source": [
        "!cd DCNv2_latest;./make.sh"
      ],
      "execution_count": null,
      "outputs": []
    },
    {
      "cell_type": "markdown",
      "metadata": {
        "id": "YXpD5PjJNxFk"
      },
      "source": [
        "## Enable **yolact** algorithm in **demo-reel.sh** then [Click here](#scrollTo=o_XakLktMBfj) to jump to Run realtime live demos and run this algorithm"
      ]
    },
    {
      "cell_type": "markdown",
      "metadata": {
        "id": "QEhh5Yrt7LUA"
      },
      "source": [
        "# Install DeepMind NFNets algorithm"
      ]
    },
    {
      "cell_type": "code",
      "metadata": {
        "id": "TlChuyCgPx1k"
      },
      "source": [
        "!pip install dm-haiku\n",
        "!pip install dill\n",
        "!git clone https://github.com/deepmind/deepmind-research/"
      ],
      "execution_count": null,
      "outputs": []
    },
    {
      "cell_type": "code",
      "metadata": {
        "id": "q8PQF8RaP4U_"
      },
      "source": [
        "import os\n",
        "variant = 'F0'\n",
        "os.environ['VARIANT'] = variant\n",
        "!cd deepmind-research/; wget https://storage.googleapis.com/dm-nfnets/${VARIANT}_haiku.npz"
      ],
      "execution_count": null,
      "outputs": []
    },
    {
      "cell_type": "markdown",
      "metadata": {
        "id": "aJZHTxkv7Y7l"
      },
      "source": [
        "## Enable **deepmind.nfnets** algorithm in **demo-reel.sh** then [Click here](#scrollTo=o_XakLktMBfj) to jump to Run realtime live demos and run this algorithm"
      ]
    }
  ]
}